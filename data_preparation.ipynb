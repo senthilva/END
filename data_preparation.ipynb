{
 "cells": [
  {
   "cell_type": "markdown",
   "metadata": {},
   "source": [
    "'''\n",
    "Program to read the input data and process it for the transformer model\n",
    "- Read the file and split into english and corresponding python code\n",
    "- format the python code into one line\n",
    "    - factor new line\n",
    "    - factor tabs\n",
    "\n",
    "Also build a formatter that converts the single line python code\n",
    "back to proper syntax for python. This will used for visualization\n",
    "and verifing the output. This will be used to evaluate the model.\n",
    "\n",
    "\n",
    "Challenges in the input data\n",
    "\n",
    "    - Messy start various options to segment the input data \n",
    "        #write ; #1 ; #  write\n",
    "    - clean input file\n",
    "        - removed # comments len < 10 & 20 after checking \n",
    "        - updated few manually\n",
    "        - remove comments in the code ???\n",
    "        # dd - remove pattern\n",
    "\n",
    "Segment the input file\n",
    "    identify marker - messy data\n",
    "    extract segment\n",
    "    extract english sentence within segment\n",
    "    extract python code within python\n",
    "    format python code to one line\n",
    "\n",
    "\n",
    "\n",
    "\n",
    "'''"
   ]
  },
  {
   "cell_type": "code",
   "execution_count": 14,
   "metadata": {},
   "outputs": [
    {
     "data": {
      "text/plain": [
       "'\\nimport sys\\n!{sys.executable} -m pip install spacy\\n!{sys.executable} -m spacy download en\\n'"
      ]
     },
     "execution_count": 14,
     "metadata": {},
     "output_type": "execute_result"
    }
   ],
   "source": [
    "'''\n",
    "import sys\n",
    "!{sys.executable} -m pip install spacy\n",
    "!{sys.executable} -m spacy download en\n",
    "'''"
   ]
  },
  {
   "cell_type": "code",
   "execution_count": 72,
   "metadata": {},
   "outputs": [
    {
     "name": "stdout",
     "output_type": "stream",
     "text": [
      "[nltk_data] Downloading package wordnet to\n",
      "[nltk_data]     /Users/senthilvinayagam/nltk_data...\n",
      "[nltk_data]   Unzipping corpora/wordnet.zip.\n"
     ]
    },
    {
     "data": {
      "text/plain": [
       "True"
      ]
     },
     "execution_count": 72,
     "metadata": {},
     "output_type": "execute_result"
    }
   ],
   "source": [
    "#!pip install SpaCy\n",
    "#!pip install spacy-wordnet\n",
    "#!pip install PyDictionary\n",
    "import nltk\n",
    "nltk.download('wordnet')"
   ]
  },
  {
   "cell_type": "code",
   "execution_count": 16,
   "metadata": {},
   "outputs": [],
   "source": [
    "import os\n",
    "import re\n",
    "\n",
    "import pandas as pd\n",
    "import spacy\n",
    "import random"
   ]
  },
  {
   "cell_type": "code",
   "execution_count": 17,
   "metadata": {},
   "outputs": [
    {
     "name": "stdout",
     "output_type": "stream",
     "text": [
      "['clean_data.txt', 'data_processing-v1.ipynb', 'data_processing.ipynb', 'out', 'p_data.csv', 'english_python_data.txt', 'analysis_shortv3.txt', 'analysis_shortv2.txt', 'data_preparation.ipynb', 'clean_in10.txt', 'data.csv', 'analysis.txt', 'clean_in10_20.txt', '.ipynb_checkpoints', 'analysis_short10.txt', 'analysis_short.txt']\n"
     ]
    }
   ],
   "source": [
    "print(os.listdir())"
   ]
  },
  {
   "cell_type": "code",
   "execution_count": 18,
   "metadata": {},
   "outputs": [],
   "source": [
    "#out dataframe\n",
    "out_df = pd.DataFrame(columns = ['src', 'python'])"
   ]
  },
  {
   "cell_type": "code",
   "execution_count": 19,
   "metadata": {},
   "outputs": [
    {
     "name": "stdout",
     "output_type": "stream",
     "text": [
      " Count of # :42424\n"
     ]
    }
   ],
   "source": [
    "input_file = 'clean_data.txt'\n",
    "output_file = os.path.join('analysis_shortv3.txt')\n",
    "# first print all lines starting with # with count\n",
    "with open(output_file,'w') as out_file:\n",
    "    eng_buf = ''\n",
    "    py_buf = ''\n",
    "    samples = 0\n",
    "    with open(input_file) as in_file:\n",
    "        for idx,line in enumerate(in_file):\n",
    "            if line.startswith('#') and len(line) > 30:\n",
    "                samples = samples + 1\n",
    "                out_df.loc[len(out_df)] = [eng_buf,py_buf]\n",
    "                py_buf = ''\n",
    "                eng_buf = line\n",
    "                #print(line)\n",
    "                #out_file.write(line)\n",
    "            else :\n",
    "                py_buf = py_buf + line\n",
    "                #out_file.write(line)\n",
    "            #if samples > 10:\n",
    "                #break\n",
    "print(f\" Count of # :{idx}\")"
   ]
  },
  {
   "cell_type": "code",
   "execution_count": 20,
   "metadata": {},
   "outputs": [
    {
     "data": {
      "text/plain": [
       "4428"
      ]
     },
     "execution_count": 20,
     "metadata": {},
     "output_type": "execute_result"
    }
   ],
   "source": [
    "len(out_df['python'])"
   ]
  },
  {
   "cell_type": "code",
   "execution_count": 21,
   "metadata": {},
   "outputs": [],
   "source": [
    "# Replace tabs with 4 spaces\n",
    "out_df['python']= out_df['python'].str.replace('\\t', '    ')"
   ]
  },
  {
   "cell_type": "code",
   "execution_count": 22,
   "metadata": {},
   "outputs": [],
   "source": [
    "# clean spaces \n",
    "# 3->4\n",
    "# 7->8\n",
    "# 11->12\n",
    "\n",
    "reg3s_pat = re.compile(r'(:?\\n)[\\s]{3}([\\w])')\n",
    "reg7s_pat = re.compile(r'(:?\\n)[\\s]{7}([\\w])')\n",
    "reg11s_pat = re.compile(r'(:?\\n)[\\s]{11}([\\w])')\n",
    "\n",
    "def regex_clean(val):\n",
    "\n",
    "    clean_py = reg3s_pat.sub(r'\\1    \\2', val)\n",
    "    clean_py = reg7s_pat.sub(r'\\1        \\2', clean_py)\n",
    "    clean_py = reg11s_pat.sub(r'\\1            \\2', clean_py)\n",
    "    \n",
    "    return clean_py\n",
    "\n",
    "out_df['trg'] = out_df['python'].apply(regex_clean)"
   ]
  },
  {
   "cell_type": "code",
   "execution_count": 23,
   "metadata": {},
   "outputs": [],
   "source": [
    "spacy_en = spacy.load('en_core_web_sm')"
   ]
  },
  {
   "cell_type": "code",
   "execution_count": 33,
   "metadata": {},
   "outputs": [
    {
     "data": {
      "text/html": [
       "<div>\n",
       "<style scoped>\n",
       "    .dataframe tbody tr th:only-of-type {\n",
       "        vertical-align: middle;\n",
       "    }\n",
       "\n",
       "    .dataframe tbody tr th {\n",
       "        vertical-align: top;\n",
       "    }\n",
       "\n",
       "    .dataframe thead th {\n",
       "        text-align: right;\n",
       "    }\n",
       "</style>\n",
       "<table border=\"1\" class=\"dataframe\">\n",
       "  <thead>\n",
       "    <tr style=\"text-align: right;\">\n",
       "      <th></th>\n",
       "      <th>src</th>\n",
       "      <th>python</th>\n",
       "      <th>trg</th>\n",
       "    </tr>\n",
       "  </thead>\n",
       "  <tbody>\n",
       "    <tr>\n",
       "      <th>0</th>\n",
       "      <td></td>\n",
       "      <td></td>\n",
       "      <td></td>\n",
       "    </tr>\n",
       "    <tr>\n",
       "      <th>1</th>\n",
       "      <td># write a python program to add two numbers\\n</td>\n",
       "      <td>num1 = 1.5\\nnum2 = 6.3\\nsum = num1 + num2\\npri...</td>\n",
       "      <td>num1 = 1.5\\nnum2 = 6.3\\nsum = num1 + num2\\npri...</td>\n",
       "    </tr>\n",
       "    <tr>\n",
       "      <th>2</th>\n",
       "      <td># write a python function to add two user prov...</td>\n",
       "      <td>def add_two_numbers(num1, num2):\\n    sum = nu...</td>\n",
       "      <td>def add_two_numbers(num1, num2):\\n    sum = nu...</td>\n",
       "    </tr>\n",
       "    <tr>\n",
       "      <th>3</th>\n",
       "      <td># write a program to find and print the larges...</td>\n",
       "      <td>\\nnum1 = 10\\nnum2 = 12\\nnum3 = 14\\nif (num1 &gt;=...</td>\n",
       "      <td>\\nnum1 = 10\\nnum2 = 12\\nnum3 = 14\\nif (num1 &gt;=...</td>\n",
       "    </tr>\n",
       "    <tr>\n",
       "      <th>4</th>\n",
       "      <td># write a program to find and print the smalle...</td>\n",
       "      <td>num1 = 10\\nnum2 = 12\\nnum3 = 14\\nif (num1 &lt;= n...</td>\n",
       "      <td>num1 = 10\\nnum2 = 12\\nnum3 = 14\\nif (num1 &lt;= n...</td>\n",
       "    </tr>\n",
       "  </tbody>\n",
       "</table>\n",
       "</div>"
      ],
      "text/plain": [
       "                                                 src  \\\n",
       "0                                                      \n",
       "1      # write a python program to add two numbers\\n   \n",
       "2  # write a python function to add two user prov...   \n",
       "3  # write a program to find and print the larges...   \n",
       "4  # write a program to find and print the smalle...   \n",
       "\n",
       "                                              python  \\\n",
       "0                                                      \n",
       "1  num1 = 1.5\\nnum2 = 6.3\\nsum = num1 + num2\\npri...   \n",
       "2  def add_two_numbers(num1, num2):\\n    sum = nu...   \n",
       "3  \\nnum1 = 10\\nnum2 = 12\\nnum3 = 14\\nif (num1 >=...   \n",
       "4  num1 = 10\\nnum2 = 12\\nnum3 = 14\\nif (num1 <= n...   \n",
       "\n",
       "                                                 trg  \n",
       "0                                                     \n",
       "1  num1 = 1.5\\nnum2 = 6.3\\nsum = num1 + num2\\npri...  \n",
       "2  def add_two_numbers(num1, num2):\\n    sum = nu...  \n",
       "3  \\nnum1 = 10\\nnum2 = 12\\nnum3 = 14\\nif (num1 >=...  \n",
       "4  num1 = 10\\nnum2 = 12\\nnum3 = 14\\nif (num1 <= n...  "
      ]
     },
     "execution_count": 33,
     "metadata": {},
     "output_type": "execute_result"
    }
   ],
   "source": [
    "out_df.head()"
   ]
  },
  {
   "cell_type": "code",
   "execution_count": 98,
   "metadata": {},
   "outputs": [
    {
     "name": "stdout",
     "output_type": "stream",
     "text": [
      "# write a python program to rotate a list 10 times and print it\n",
      "\n",
      "list = [11,22,33,44,55,66,77,88,99]\n",
      "n = 10\n",
      "finalList = []\n",
      "for i in range(0, N):\n",
      "    finalList.append(list[(i+d)%N])\n",
      "print(finalList)\n",
      "\n",
      "\n",
      "\n",
      "\n"
     ]
    }
   ],
   "source": [
    "idx = random.randint(0,len(out_df))\n",
    "\n",
    "print(out_df['src'].iloc[idx])\n",
    "print(out_df['trg'].iloc[idx])\n",
    "src_val = out_df['src'].iloc[idx]"
   ]
  },
  {
   "cell_type": "code",
   "execution_count": 100,
   "metadata": {},
   "outputs": [
    {
     "name": "stdout",
     "output_type": "stream",
     "text": [
      "# write a python program to rotate a list 10 times and print it\n",
      "\n",
      "write write VERB VB ROOT xxxx True False\n",
      "rotate rotate VERB VB relcl xxxx True False\n",
      "print print VERB VB conj xxxx True False\n"
     ]
    }
   ],
   "source": [
    "doc = spacy_en(src_val)\n",
    "print(src_val)\n",
    "for token in doc:\n",
    "    if token.pos_ == 'VERB':\n",
    "        print(token.text, token.lemma_, token.pos_, token.tag_, token.dep_,\n",
    "            token.shape_, token.is_alpha, token.is_stop)"
   ]
  },
  {
   "cell_type": "code",
   "execution_count": 118,
   "metadata": {},
   "outputs": [],
   "source": [
    "verb_list = []\n",
    "for idx,row in out_df.iterrows():\n",
    "    doc = spacy_en(row['src'])\n",
    "    for token in doc:\n",
    "        if token.pos_ == 'VERB':\n",
    "            verb_list.append(token.text.lower())\n",
    "            \n"
   ]
  },
  {
   "cell_type": "code",
   "execution_count": 123,
   "metadata": {},
   "outputs": [
    {
     "data": {
      "text/plain": [
       "[('write', 3578),\n",
       " ('print', 882),\n",
       " ('given', 656),\n",
       " ('find', 405),\n",
       " ('return', 352),\n",
       " ('using', 304),\n",
       " ('check', 257),\n",
       " ('is', 210),\n",
       " ('calculate', 197),\n",
       " ('convert', 175),\n",
       " ('returns', 173),\n",
       " ('are', 147),\n",
       " ('remove', 137),\n",
       " ('get', 113),\n",
       " ('takes', 107),\n",
       " ('add', 105),\n",
       " ('generate', 104),\n",
       " ('count', 82),\n",
       " ('create', 75),\n",
       " ('demonstrate', 67),\n",
       " ('provided', 65),\n",
       " ('sort', 56),\n",
       " ('define', 55),\n",
       " ('compute', 52),\n",
       " ('accepts', 50),\n",
       " ('implement', 48),\n",
       " ('prints', 46),\n",
       " ('merge', 43),\n",
       " ('separated', 42),\n",
       " ('based', 41)]"
      ]
     },
     "execution_count": 123,
     "metadata": {},
     "output_type": "execute_result"
    }
   ],
   "source": [
    "from collections import Counter\n",
    "Counter(verb_list).most_common(30)"
   ]
  },
  {
   "cell_type": "code",
   "execution_count": null,
   "metadata": {},
   "outputs": [],
   "source": [
    "'multiply' "
   ]
  }
 ],
 "metadata": {
  "kernelspec": {
   "display_name": "Python 3",
   "language": "python",
   "name": "python3"
  },
  "language_info": {
   "codemirror_mode": {
    "name": "ipython",
    "version": 3
   },
   "file_extension": ".py",
   "mimetype": "text/x-python",
   "name": "python",
   "nbconvert_exporter": "python",
   "pygments_lexer": "ipython3",
   "version": "3.8.3"
  }
 },
 "nbformat": 4,
 "nbformat_minor": 4
}
