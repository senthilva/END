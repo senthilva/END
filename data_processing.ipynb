{
 "cells": [
  {
   "cell_type": "code",
   "execution_count": 1,
   "metadata": {},
   "outputs": [
    {
     "data": {
      "text/plain": [
       "'\\nProgram to read the input data and process it for the transformer model\\n- Read the file and split into english and corresponding python code\\n- format the python code into one line\\n    - factor new line\\n    - factor tabs\\n\\nAlso build a formatter that converts the single line python code\\nback to proper syntax for python. This will used for visualization\\nand verifing the output. This will be used to evaluate the model.\\n\\n\\nChallenges in the input data\\n\\n    - Messy start various options to segment the input data \\n        #write ; #1 ; #  write\\n    - clean input file\\n        - removed # comments len < 10 & 20 after checking \\n        - updated few manually\\n        - remove comments in the code ???\\n        # dd - remove pattern\\n\\nSegment the input file\\n    identify marker - messy data\\n    extract segment\\n    extract english sentence within segment\\n    extract python code within python\\n    format python code to one line\\n\\n\\n\\n\\n'"
      ]
     },
     "execution_count": 1,
     "metadata": {},
     "output_type": "execute_result"
    }
   ],
   "source": [
    "'''\n",
    "Program to read the input data and process it for the transformer model\n",
    "- Read the file and split into english and corresponding python code\n",
    "- format the python code into one line\n",
    "    - factor new line\n",
    "    - factor tabs\n",
    "\n",
    "Also build a formatter that converts the single line python code\n",
    "back to proper syntax for python. This will used for visualization\n",
    "and verifing the output. This will be used to evaluate the model.\n",
    "\n",
    "\n",
    "Challenges in the input data\n",
    "\n",
    "    - Messy start various options to segment the input data \n",
    "        #write ; #1 ; #  write\n",
    "    - clean input file\n",
    "        - removed # comments len < 10 & 20 after checking \n",
    "        - updated few manually\n",
    "        - remove comments in the code ???\n",
    "        # dd - remove pattern\n",
    "\n",
    "Segment the input file\n",
    "    identify marker - messy data\n",
    "    extract segment\n",
    "    extract english sentence within segment\n",
    "    extract python code within python\n",
    "    format python code to one line\n",
    "\n",
    "\n",
    "\n",
    "\n",
    "'''"
   ]
  },
  {
   "cell_type": "code",
   "execution_count": 64,
   "metadata": {},
   "outputs": [],
   "source": [
    "import os\n",
    "import re\n",
    "\n",
    "import pandas as pd"
   ]
  },
  {
   "cell_type": "code",
   "execution_count": 4,
   "metadata": {},
   "outputs": [
    {
     "name": "stdout",
     "output_type": "stream",
     "text": [
      "['clean_data.txt', 'data_processing.ipynb', 'out', 'p_data.csv', 'english_python_data.txt', 'analysis_shortv3.txt', 'analysis_shortv2.txt', 'clean_in10.txt', 'analysis.txt', 'clean_in10_20.txt', '.ipynb_checkpoints', 'analysis_short10.txt', 'analysis_short.txt']\n"
     ]
    }
   ],
   "source": [
    "print(os.listdir())"
   ]
  },
  {
   "cell_type": "code",
   "execution_count": 5,
   "metadata": {},
   "outputs": [],
   "source": [
    "#out dataframe\n",
    "out_df = pd.DataFrame(columns = ['english', 'python'])"
   ]
  },
  {
   "cell_type": "code",
   "execution_count": 24,
   "metadata": {},
   "outputs": [
    {
     "name": "stdout",
     "output_type": "stream",
     "text": [
      " Count of # :42424\n"
     ]
    }
   ],
   "source": [
    "input_file = 'clean_data.txt'\n",
    "output_file = os.path.join('analysis_shortv3.txt')\n",
    "# first print all lines starting with # with count\n",
    "with open(output_file,'w') as out_file:\n",
    "    eng_buf = ''\n",
    "    py_buf = ''\n",
    "    samples = 0\n",
    "    with open(input_file) as in_file:\n",
    "        for idx,line in enumerate(in_file):\n",
    "            if line.startswith('#') and len(line) > 30:\n",
    "                samples = samples + 1\n",
    "                out_df.loc[len(out_df)] = [eng_buf,py_buf]\n",
    "                py_buf = ''\n",
    "                eng_buf = line\n",
    "                #print(line)\n",
    "                #out_file.write(line)\n",
    "            else :\n",
    "                py_buf = py_buf + line\n",
    "                #out_file.write(line)\n",
    "            #if samples > 10:\n",
    "                #break\n",
    "print(f\" Count of # :{idx}\")"
   ]
  },
  {
   "cell_type": "code",
   "execution_count": 41,
   "metadata": {},
   "outputs": [],
   "source": [
    "# Replace tabs with 4 spaces\n",
    "out_df['python']= out_df['python'].str.replace('\\t', '    ')"
   ]
  },
  {
   "cell_type": "code",
   "execution_count": 45,
   "metadata": {},
   "outputs": [
    {
     "data": {
      "text/plain": [
       "4439"
      ]
     },
     "execution_count": 45,
     "metadata": {},
     "output_type": "execute_result"
    }
   ],
   "source": [
    "len(out_df['python'])"
   ]
  },
  {
   "cell_type": "code",
   "execution_count": 63,
   "metadata": {},
   "outputs": [
    {
     "data": {
      "text/plain": [
       "0     1656\n",
       "1     1231\n",
       "3      500\n",
       "2      494\n",
       "4      240\n",
       "5      151\n",
       "6       71\n",
       "7       35\n",
       "9       21\n",
       "8       13\n",
       "10       4\n",
       "14       3\n",
       "17       3\n",
       "15       3\n",
       "12       3\n",
       "18       2\n",
       "11       2\n",
       "16       1\n",
       "31       1\n",
       "20       1\n",
       "32       1\n",
       "68       1\n",
       "38       1\n",
       "13       1\n",
       "Name: python, dtype: int64"
      ]
     },
     "execution_count": 63,
     "metadata": {},
     "output_type": "execute_result"
    }
   ],
   "source": [
    "out_df['python'].str.count(':\\n   ').value_counts()"
   ]
  },
  {
   "cell_type": "code",
   "execution_count": 23,
   "metadata": {},
   "outputs": [
    {
     "data": {
      "text/plain": [
       "0"
      ]
     },
     "execution_count": 23,
     "metadata": {},
     "output_type": "execute_result"
    }
   ],
   "source": [
    "\n",
    "def regex_filter(val):\n",
    "    if val:\n",
    "        mo = re.search(regex,val)\n",
    "        if mo:\n",
    "            return True\n",
    "        else:\n",
    "            return False\n",
    "    else:\n",
    "        return False\n",
    "\n",
    "df_filtered = df[df['col'].apply(regex_filter)]"
   ]
  },
  {
   "cell_type": "code",
   "execution_count": 17,
   "metadata": {},
   "outputs": [
    {
     "name": "stdout",
     "output_type": "stream",
     "text": [
      "337 is a prime number\n"
     ]
    }
   ],
   "source": [
    "num = 337\n",
    "\n",
    "if num > 1:\n",
    "    for i in range(2, num//2 + 1):\n",
    "        if (num % i) == 0:\n",
    "           print(num,\"is not a prime number\")\n",
    "           print(f\"{i} times {num//i} is {num}\")\n",
    "           break\n",
    "   else:\n",
    "       print(f\"{num} is a prime number\")\n",
    "\n",
    "else:\n",
    "   print(f\"{num} is not a prime number\")"
   ]
  },
  {
   "cell_type": "code",
   "execution_count": 147,
   "metadata": {},
   "outputs": [],
   "source": [
    "reg_pat = re.compile(r':?\\n[\\s]{3}[\\w]')\n",
    "def regex_filter(val):\n",
    "    if val:\n",
    "        mo = re.search(reg_pat,val)\n",
    "        if mo:\n",
    "            return True\n",
    "        else:\n",
    "            return False\n",
    "    else:\n",
    "        return False\n",
    "\n",
    "df_filt_3 = out_df[out_df['python'].apply(regex_filter)]"
   ]
  },
  {
   "cell_type": "code",
   "execution_count": 306,
   "metadata": {},
   "outputs": [],
   "source": [
    "reg_pat = re.compile(r':?\\n[\\s]{11}[\\w]')\n",
    "def regex_filter(val):\n",
    "    if val:\n",
    "        mo = re.search(reg_pat,val)\n",
    "        if mo:\n",
    "            return True\n",
    "        else:\n",
    "            return False\n",
    "    else:\n",
    "        return False\n",
    "\n",
    "df_filt_3 = out_df[out_df['python'].apply(regex_filter)]"
   ]
  },
  {
   "cell_type": "code",
   "execution_count": 307,
   "metadata": {},
   "outputs": [
    {
     "data": {
      "text/plain": [
       "69"
      ]
     },
     "execution_count": 307,
     "metadata": {},
     "output_type": "execute_result"
    }
   ],
   "source": [
    "len(df_filt_3)"
   ]
  },
  {
   "cell_type": "code",
   "execution_count": 309,
   "metadata": {},
   "outputs": [
    {
     "name": "stdout",
     "output_type": "stream",
     "text": [
      "\n",
      "num = int(input(\"Enter a number: \"))\n",
      "\n",
      "if num > 1:\n",
      "   for i in range(2,num):\n",
      "       if (num % i) == 0:\n",
      "           print(num,\"is not a prime number\")\n",
      "           print(i,\"times\",num//i,\"is\",num)\n",
      "           break\n",
      "   else:\n",
      "       print(num,\"is a prime number\")\n",
      "\n",
      "else:\n",
      "   print(num,\"is not a prime number\")\n",
      "\n",
      "\n"
     ]
    }
   ],
   "source": [
    "print(df_filt_3['python'].iloc[6])"
   ]
  },
  {
   "cell_type": "code",
   "execution_count": 310,
   "metadata": {},
   "outputs": [],
   "source": [
    "val = df_filt_3['python'].iloc[6]"
   ]
  },
  {
   "cell_type": "code",
   "execution_count": 311,
   "metadata": {},
   "outputs": [
    {
     "name": "stdout",
     "output_type": "stream",
     "text": [
      "\n",
      "num = int(input(\"Enter a number: \"))\n",
      "\n",
      "if num > 1:\n",
      "   for i in range(2,num):\n",
      "       if (num % i) == 0:\n",
      "           print(num,\"is not a prime number\")\n",
      "           print(i,\"times\",num//i,\"is\",num)\n",
      "           break\n",
      "   else:\n",
      "       print(num,\"is a prime number\")\n",
      "\n",
      "else:\n",
      "   print(num,\"is not a prime number\")\n",
      "\n",
      "\n"
     ]
    }
   ],
   "source": [
    "print(val)"
   ]
  },
  {
   "cell_type": "code",
   "execution_count": 312,
   "metadata": {},
   "outputs": [],
   "source": [
    "regex_pat = re.compile(r'(:?\\n)[\\s]{11}([\\w])')"
   ]
  },
  {
   "cell_type": "code",
   "execution_count": 313,
   "metadata": {},
   "outputs": [
    {
     "data": {
      "text/plain": [
       "re.compile(r'(:?\\n)[\\s]{11}([\\w])', re.UNICODE)"
      ]
     },
     "execution_count": 313,
     "metadata": {},
     "output_type": "execute_result"
    }
   ],
   "source": [
    "regex_pat"
   ]
  },
  {
   "cell_type": "code",
   "execution_count": 314,
   "metadata": {},
   "outputs": [],
   "source": [
    "line = regex_pat.sub(r'\\1            \\2', val)"
   ]
  },
  {
   "cell_type": "code",
   "execution_count": 315,
   "metadata": {},
   "outputs": [
    {
     "name": "stdout",
     "output_type": "stream",
     "text": [
      "\n",
      "num = int(input(\"Enter a number: \"))\n",
      "\n",
      "if num > 1:\n",
      "   for i in range(2,num):\n",
      "       if (num % i) == 0:\n",
      "            print(num,\"is not a prime number\")\n",
      "            print(i,\"times\",num//i,\"is\",num)\n",
      "            break\n",
      "   else:\n",
      "       print(num,\"is a prime number\")\n",
      "\n",
      "else:\n",
      "   print(num,\"is not a prime number\")\n",
      "\n",
      "\n"
     ]
    }
   ],
   "source": [
    "print(line)"
   ]
  },
  {
   "cell_type": "code",
   "execution_count": 284,
   "metadata": {},
   "outputs": [],
   "source": [
    "num = int(input(\"Enter a number: \"))\n",
    "\n",
    "if num > 1:\n",
    "   for i in range(2,num):\n",
    "       if (num % i) == 0:\n",
    "            print(num,\"is not a prime number\")\n",
    "            print(i,\"times\",num//i,\"is\",num)\n",
    "            break\n",
    "   else:\n",
    "       print(num,\"is a prime number\")\n",
    "\n",
    "else:\n",
    "   print(num,\"is not a prime number\")\n",
    "\n"
   ]
  },
  {
   "cell_type": "code",
   "execution_count": 316,
   "metadata": {},
   "outputs": [
    {
     "ename": "TypeError",
     "evalue": "'str' object is not callable",
     "output_type": "error",
     "traceback": [
      "\u001b[0;31m--------------------------------------------------------------------------\u001b[0m",
      "\u001b[0;31mTypeError\u001b[0m                                Traceback (most recent call last)",
      "\u001b[0;32m<ipython-input-316-967b1348c9e7>\u001b[0m in \u001b[0;36m<module>\u001b[0;34m\u001b[0m\n\u001b[0;32m----> 1\u001b[0;31m \u001b[0mnum\u001b[0m \u001b[0;34m=\u001b[0m \u001b[0mint\u001b[0m\u001b[0;34m(\u001b[0m\u001b[0minput\u001b[0m\u001b[0;34m(\u001b[0m\u001b[0;34m\"Enter a number: \"\u001b[0m\u001b[0;34m)\u001b[0m\u001b[0;34m)\u001b[0m\u001b[0;34m\u001b[0m\u001b[0;34m\u001b[0m\u001b[0m\n\u001b[0m\u001b[1;32m      2\u001b[0m \u001b[0;34m\u001b[0m\u001b[0m\n\u001b[1;32m      3\u001b[0m \u001b[0;32mif\u001b[0m \u001b[0mnum\u001b[0m \u001b[0;34m>\u001b[0m \u001b[0;36m1\u001b[0m\u001b[0;34m:\u001b[0m\u001b[0;34m\u001b[0m\u001b[0;34m\u001b[0m\u001b[0m\n\u001b[1;32m      4\u001b[0m    \u001b[0;32mfor\u001b[0m \u001b[0mi\u001b[0m \u001b[0;32min\u001b[0m \u001b[0mrange\u001b[0m\u001b[0;34m(\u001b[0m\u001b[0;36m2\u001b[0m\u001b[0;34m,\u001b[0m\u001b[0mnum\u001b[0m\u001b[0;34m)\u001b[0m\u001b[0;34m:\u001b[0m\u001b[0;34m\u001b[0m\u001b[0;34m\u001b[0m\u001b[0m\n\u001b[1;32m      5\u001b[0m        \u001b[0;32mif\u001b[0m \u001b[0;34m(\u001b[0m\u001b[0mnum\u001b[0m \u001b[0;34m%\u001b[0m \u001b[0mi\u001b[0m\u001b[0;34m)\u001b[0m \u001b[0;34m==\u001b[0m \u001b[0;36m0\u001b[0m\u001b[0;34m:\u001b[0m\u001b[0;34m\u001b[0m\u001b[0;34m\u001b[0m\u001b[0m\n",
      "\u001b[0;31mTypeError\u001b[0m: 'str' object is not callable"
     ]
    }
   ],
   "source": [
    "num = int(input(\"Enter a number: \"))\n",
    "\n",
    "if num > 1:\n",
    "   for i in range(2,num):\n",
    "       if (num % i) == 0:\n",
    "           print(num,\"is not a prime number\")\n",
    "           print(i,\"times\",num//i,\"is\",num)\n",
    "           break\n",
    "   else:\n",
    "       print(num,\"is a prime number\")\n",
    "\n",
    "else:\n",
    "   print(num,\"is not a prime number\")"
   ]
  },
  {
   "cell_type": "code",
   "execution_count": null,
   "metadata": {},
   "outputs": [],
   "source": []
  }
 ],
 "metadata": {
  "kernelspec": {
   "display_name": "Python 3",
   "language": "python",
   "name": "python3"
  },
  "language_info": {
   "codemirror_mode": {
    "name": "ipython",
    "version": 3
   },
   "file_extension": ".py",
   "mimetype": "text/x-python",
   "name": "python",
   "nbconvert_exporter": "python",
   "pygments_lexer": "ipython3",
   "version": "3.8.3"
  }
 },
 "nbformat": 4,
 "nbformat_minor": 4
}
