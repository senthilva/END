{
 "cells": [
  {
   "cell_type": "code",
   "execution_count": 38,
   "metadata": {},
   "outputs": [
    {
     "data": {
      "text/plain": [
       "False"
      ]
     },
     "execution_count": 38,
     "metadata": {},
     "output_type": "execute_result"
    }
   ],
   "source": [
    "# Question 1\n",
    "# Generate Fibonacci till 10000\n",
    "fib_nums_to_10k = []\n",
    "for idx, num in enumerate(range(10000)):\n",
    "    if num  == 0:\n",
    "        fib_nums_to_10k.append(0)\n",
    "    elif num == 1:\n",
    "        fib_nums_to_10k.append(1)\n",
    "    else:\n",
    "        fib_nums_to_10k.append(fib_nums_to_10k[-1] \\\n",
    "                               + fib_nums_to_10k[-2])\n",
    "    if  fib_nums_to_10k[-1] > 10000:\n",
    "        break\n",
    "\n",
    "fib_nums_to_10k # Has the Fib numbers till 10000        \n",
    "\n",
    "# Function to check if Fibonacci\n",
    "def check_if_fibo(num):\n",
    "    return bool(list(filter(lambda x: x == num ,\n",
    "                            fib_nums_to_10k)))\n",
    "\n",
    "check_if_fibo(35)"
   ]
  },
  {
   "cell_type": "code",
   "execution_count": 102,
   "metadata": {},
   "outputs": [
    {
     "data": {
      "text/plain": [
       "'yxfn'"
      ]
     },
     "execution_count": 102,
     "metadata": {},
     "output_type": "execute_result"
    }
   ],
   "source": [
    "# Question 2\n",
    "\n",
    "# 2.1\n",
    "# add 2 iterables a and b such that a is even and b is odd\n",
    "a = [1,2,3,4,5]\n",
    "b = [11,13,15,17,19,21]\n",
    "[a+b for a,b in zip(a,b) if a % 2 == 0 if b %2 != 0]\n",
    "\n",
    "# 2.2\n",
    "# strips every vowel from a string provided (tsai>>t s)\n",
    "word = 'tsai'\n",
    "' '.join([letter for letter in word if letter.lower() not in 'aeiou'])\n",
    "\n",
    "# 2.3\n",
    "# acts like a ReLU function for a 1D array\n",
    "input = [-1,3,0,2,-1]\n",
    "[max(0,num) for num in input]\n",
    "\n",
    "# 2.4\n",
    "# acts like a sigmoid function for a 1D array\n",
    "import math\n",
    "input = [-500,3,0,2,-1,300]\n",
    "[1/(1+math.exp(-num)) for num in input]\n",
    "\n",
    "# 2.5\n",
    "# takes a small character string and shifts all characters\n",
    "# by 5 (handle boundary conditions) tsai>>yxfn\n",
    "import string\n",
    "input_txt = \"tsai\"\n",
    "ascii_chars = string.ascii_lowercase\n",
    "''.join([ascii_chars[(ascii_chars.index(char)+5)\n",
    "                     %len(ascii_chars)] \n",
    "         for char in input_txt ])"
   ]
  },
  {
   "cell_type": "code",
   "execution_count": 106,
   "metadata": {},
   "outputs": [
    {
     "data": {
      "text/plain": [
       "True"
      ]
     },
     "execution_count": 106,
     "metadata": {},
     "output_type": "execute_result"
    }
   ],
   "source": [
    "# Question 3\n",
    "\n",
    "import base64\n",
    "import requests\n",
    "import re\n",
    "\n",
    "#Getting the swear words\n",
    "master = \"https://raw.githubusercontent.com/RobertJGabriel/Google-profanity-words/master/list.txt\"\n",
    "req = requests.get(master)\n",
    "req = req.text\n",
    "\n",
    "swear_words = re.split(\"\\s+|\\n\", req)\n",
    "\n",
    "#Input txt\n",
    "input_txt = \"Seasons, without created all divided life they're ok . Without let bearing kind spirit great him behold let don't under and over good every spirit first. Moving over blessed. Third made.In. One face second, face there beginning bring fourth likeness lights she'd may spirit light of days deep brought evening was is bearing shall wherein light meat open spirit greater may two all dry waters said. Evening for without evening fly fruit can't, good.Land heaven meat. Stars green land moved sea bring. Itself. Spirit good two. Creature second given. Divided face dominion days you sixth morning.\"\n",
    "input_txt = 'Hi Man... FU*K'\n",
    "input_txt = input_txt.lower() # Converting to lower case\n",
    "any([ True for word in swear_words[:-1] if word in input_txt])\n"
   ]
  },
  {
   "cell_type": "code",
   "execution_count": 10,
   "metadata": {},
   "outputs": [
    {
     "name": "stdout",
     "output_type": "stream",
     "text": [
      "[0, 3, 6, 9]\n"
     ]
    },
    {
     "data": {
      "text/plain": [
       "18"
      ]
     },
     "execution_count": 10,
     "metadata": {},
     "output_type": "execute_result"
    }
   ],
   "source": [
    "# Question 4\n",
    "\n",
    "#4.1 add only even numbers in a list\n",
    "from functools import reduce\n",
    "\n",
    "def add_even(a,b):\n",
    "    if ( a % 2 == 0 and\n",
    "         b % 2 == 0):\n",
    "        return a+b\n",
    "    elif a % 2 == 0 : return a\n",
    "    elif b % 2 == 0 : return b\n",
    "    else : return 0\n",
    "    \n",
    "num_list = [1, 1, 1, 1]\n",
    "\n",
    "reduce(add_even, num_list)\n",
    "\n",
    "\n",
    "#4.2 find the biggest character in a string\n",
    "text = 'SenthXz'\n",
    "\n",
    "reduce(max, text) # using inbuilt max function\n",
    "\n",
    "\n",
    "#4.3 adds every 3rd number in a list\n",
    "num_list = range(10)\n",
    "print(list(num_list[::3]))\n",
    "reduce(lambda a,b : a+b, num_list[::3]) # using inbuilt max function"
   ]
  },
  {
   "cell_type": "code",
   "execution_count": 29,
   "metadata": {},
   "outputs": [
    {
     "data": {
      "text/plain": [
       "['KA48QJ6891',\n",
       " 'KA49TX9403',\n",
       " 'KA95SI8432',\n",
       " 'KA63MH7651',\n",
       " 'KA94IU3482',\n",
       " 'KA46UC7925',\n",
       " 'KA27CT8285',\n",
       " 'KA17FW3753',\n",
       " 'KA10ES4270',\n",
       " 'KA75EY9107',\n",
       " 'KA11YF6537',\n",
       " 'KA96LT4427',\n",
       " 'KA77EU4212',\n",
       " 'KA56LS4133',\n",
       " 'KA89OV9688']"
      ]
     },
     "execution_count": 29,
     "metadata": {},
     "output_type": "execute_result"
    }
   ],
   "source": [
    "# 5\n",
    "\"\"\"\n",
    "Using randint, random.choice and list comprehensions, write an expression that generates \n",
    "15 random KADDAADDDD number plates, where KA is fixed, D stands for a digit, and A stands \n",
    "for Capital alphabets. 10<<DD<<99 & 1000<<DDDD<<9999\n",
    "\"\"\"\n",
    "import random \n",
    "import string\n",
    "\n",
    "['KA'+ str(random.randint(10,99)) + \n",
    " random.choice(string.ascii_uppercase) +\n",
    " random.choice(string.ascii_uppercase) + \n",
    " str(random.randint(1000,9999)) \n",
    " for count in range(15)]"
   ]
  },
  {
   "cell_type": "code",
   "execution_count": 42,
   "metadata": {},
   "outputs": [
    {
     "name": "stdout",
     "output_type": "stream",
     "text": [
      " Enter the Start Range :3000\n",
      " Enter the End Range :4000\n"
     ]
    },
    {
     "data": {
      "text/plain": [
       "['KA38DF3380',\n",
       " 'DL98AR3782',\n",
       " 'KA95IZ3747',\n",
       " 'DL13AS3794',\n",
       " 'DL44NA3220',\n",
       " 'DL33HG3324',\n",
       " 'KA11KI3524',\n",
       " 'KA96DB3666',\n",
       " 'KA18EC3701',\n",
       " 'DL10GU3789',\n",
       " 'KA42CM3327',\n",
       " 'DL15AG3260',\n",
       " 'DL38TG3259',\n",
       " 'DL15IH3856',\n",
       " 'KA90IH3849']"
      ]
     },
     "execution_count": 42,
     "metadata": {},
     "output_type": "execute_result"
    }
   ],
   "source": [
    "# 6\n",
    "\"\"\"\n",
    "Write the above again from scratch where KA can be changed to DL, and 1000/9999 ranges can be provided\n",
    "\"\"\"\n",
    "start_range = input(' Enter the Start Range :')\n",
    "end_range = input(' Enter the End Range :')\n",
    "\n",
    "[random.choice(['KA','DL']) + str(random.randint(10,99)) + \n",
    " random.choice(string.ascii_uppercase) +\n",
    " random.choice(string.ascii_uppercase) + \n",
    " str(random.randint(int(start_range),int(end_range))) \n",
    " for count in range(15)]"
   ]
  },
  {
   "cell_type": "code",
   "execution_count": null,
   "metadata": {},
   "outputs": [],
   "source": []
  }
 ],
 "metadata": {
  "kernelspec": {
   "display_name": "Python 3",
   "language": "python",
   "name": "python3"
  },
  "language_info": {
   "codemirror_mode": {
    "name": "ipython",
    "version": 3
   },
   "file_extension": ".py",
   "mimetype": "text/x-python",
   "name": "python",
   "nbconvert_exporter": "python",
   "pygments_lexer": "ipython3",
   "version": "3.8.3"
  }
 },
 "nbformat": 4,
 "nbformat_minor": 4
}
